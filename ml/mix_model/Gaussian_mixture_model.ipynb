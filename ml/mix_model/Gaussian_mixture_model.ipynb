{
 "cells": [
  {
   "cell_type": "code",
   "execution_count": null,
   "metadata": {},
   "outputs": [],
   "source": [
    "import matplotlib.pyplot as plt\n",
    "# import tensorflow as tf\n",
    "import tensorflow.compat.v1 as tf\n",
    "tf.disable_v2_behavior()\n",
    "import numpy as np\n",
    "import math\n",
    "%config InlineBackend.figure_format = 'retina'"
   ]
  },
  {
   "cell_type": "code",
   "execution_count": null,
   "metadata": {},
   "outputs": [],
   "source": [
    "NSAMPLE = 1000\n",
    "x_data = np.random.uniform(-10.5, 10.5, size=(1, NSAMPLE)).T\n",
    "r_data = np.random.normal(size=(NSAMPLE, 1))\n",
    "y_data = np.sin(0.75 * x_data) * 7.0 + x_data * 0.5 + r_data"
   ]
  },
  {
   "cell_type": "code",
   "execution_count": null,
   "metadata": {},
   "outputs": [],
   "source": [
    "plt.figure(figsize=(8, 8))\n",
    "plt.plot(x_data,y_data,'ro',alpha=0.3)\n",
    "plt.show()"
   ]
  },
  {
   "cell_type": "code",
   "execution_count": null,
   "metadata": {},
   "outputs": [],
   "source": [
    "# 输入\n",
    "x = tf.placeholder(dtype=tf.float32, shape=[None,1])\n",
    "# 需要逼近的目标值\n",
    "y = tf.placeholder(dtype=tf.float32, shape=[None,1])\n",
    "\n",
    "# 定义一个 20 个节点的隐藏层\n",
    "hidden = tf.layers.dense(x, units=20, activation=tf.nn.tanh)\n",
    "# 输出的预测值\n",
    "y_out = tf.layers.dense(hidden, units=1, activation=None)\n",
    "\n",
    "# 使用平方差的和作为损失值\n",
    "loss = tf.nn.l2_loss(y_out - y)\n",
    "\n",
    "# 定义优化器，目标是使损失值最小化\n",
    "train_step = tf.train.AdamOptimizer(learning_rate=0.1).minimize(loss)\n",
    "\n",
    "\n",
    "# 初始化网络\n",
    "sess = tf.Session()\n",
    "sess.run(tf.global_variables_initializer())\n",
    "\n",
    "# 训练 1000 轮\n",
    "NEPOCH = 1000\n",
    "for i in range(NEPOCH):\n",
    "    sess.run(train_step, feed_dict={x: x_data, y: y_data})"
   ]
  },
  {
   "cell_type": "code",
   "execution_count": null,
   "metadata": {},
   "outputs": [],
   "source": [
    "x_test = np.arange(-10.5, 10.5, 0.1)\n",
    "x_test = np.reshape(x_test, newshape=(-1, 1))\n",
    "y_test = sess.run(y_out, feed_dict={ x: x_test })\n",
    "\n",
    "plt.figure(figsize=(8, 8))\n",
    "plt.plot(x_data, y_data, 'b*', alpha=0.2)\n",
    "plt.plot(x_test, y_test, 'r*')\n",
    "\n",
    "plt.show()"
   ]
  },
  {
   "cell_type": "code",
   "execution_count": null,
   "metadata": {},
   "outputs": [],
   "source": [
    "x_data, y_data = y_data, x_data\n",
    "plt.figure(figsize=(8, 8))\n",
    "plt.plot(x_data, y_data, 'b*', alpha=0.3)\n",
    "plt.show()"
   ]
  },
  {
   "cell_type": "code",
   "execution_count": null,
   "metadata": {},
   "outputs": [],
   "source": [
    "sess.run(tf.global_variables_initializer())\n",
    "\n",
    "NEPOCH = 1000\n",
    "for i in range(NEPOCH):\n",
    "    sess.run(train_step, feed_dict={x: x_data, y: y_data})\n",
    "    \n",
    "x_test = np.arange(-10.5, 10.5, 0.1)\n",
    "x_test = np.reshape(x_test, newshape=(-1, 1))\n",
    "y_test = sess.run(y_out, feed_dict={ x: x_test })\n",
    "\n",
    "plt.figure(figsize=(8, 8))\n",
    "plt.plot(x_test, y_test, 'r*', x_data, y_data, 'b*', alpha=0.3)\n",
    "plt.show()"
   ]
  },
  {
   "cell_type": "code",
   "execution_count": null,
   "metadata": {},
   "outputs": [],
   "source": [
    "from scipy.stats import norm\n",
    "sigma_values = [0.5, 1.0, 1.5]\n",
    "linestyles = ['-', '--', ':']\n",
    "mu_values = [1, -1, 0.3]\n",
    "x = np.linspace(-10, 10, 1000)\n",
    "\n",
    "plt.figure(figsize=(8, 8))\n",
    "\n",
    "for mu, sigma, ls in zip(mu_values, sigma_values, linestyles):\n",
    "    dist = norm(mu, sigma)\n",
    "\n",
    "    plt.plot(x, dist.pdf(x), ls=ls,\n",
    "             label='mu=%i, sigma=%.1f' % (mu, sigma))\n",
    "\n",
    "plt.xlim(-5, 5)\n",
    "plt.ylim(0, 0.85)\n",
    "\n",
    "plt.xlabel('x')\n",
    "plt.ylabel('p(x|mu,sigma)')\n",
    "plt.title('Gaussian Distribution')\n",
    "\n",
    "plt.legend()\n",
    "plt.show()"
   ]
  },
  {
   "cell_type": "code",
   "execution_count": null,
   "metadata": {},
   "outputs": [],
   "source": [
    "plt.figure(figsize=(8, 8))\n",
    "\n",
    "composite = None\n",
    "for mu, sigma, ls in zip(mu_values, sigma_values, linestyles):\n",
    "    dist = norm(mu, sigma).pdf(x)\n",
    "    plt.plot(x, dist, ls=ls,\n",
    "             label='mu=%i, sigma=%.1f' % (mu, sigma))\n",
    "    if composite is not None:\n",
    "        composite += dist\n",
    "    else:\n",
    "        composite = dist\n",
    "\n",
    "plt.plot(x, composite, label='composite(unweighted)')\n",
    "plt.xlim(-5, 5)\n",
    "plt.ylim(0, 1.85)\n",
    "\n",
    "plt.xlabel('x')\n",
    "plt.ylabel('p(x|mu,sigma)')\n",
    "plt.title('Gaussian Distribution')\n",
    "\n",
    "plt.legend()\n",
    "plt.show()"
   ]
  },
  {
   "cell_type": "code",
   "execution_count": null,
   "metadata": {},
   "outputs": [],
   "source": [
    "tf.reset_default_graph()\n",
    "x = tf.placeholder(shape=(None, 1), dtype=tf.float32, name='x')\n",
    "y = tf.placeholder(shape=(None, 1), dtype=tf.float32, name='y')\n",
    "\n",
    "mixture_size = 12\n",
    "hidden1 = tf.layers.dense(x, units=64, activation=tf.nn.relu, name=\"hidden\")\n",
    "hidden2 = tf.layers.dense(hidden1, units=128, activation=tf.nn.relu, name=\"hidden1\")\n",
    "out = tf.layers.dense(hidden2, units=mixture_size*3, activation=None, name=\"out\")\n",
    "p, mu_out, sigma = tf.split(out,3,1)\n",
    "\n",
    "# normalize to 0~1\n",
    "p_out = tf.nn.softmax(p, name=\"prob_dist\")\n",
    "sigma_out = tf.exp(sigma, name='sigma')\n",
    "factor = 1 / math.sqrt(2 * math.pi)\n",
    "\n",
    "# Gaussian formulas\n",
    "epsilon = 1e-5\n",
    "tmp = - tf.square((y - mu_out)) / (2 * tf.square(tf.maximum(sigma_out, epsilon)))\n",
    "y_normal = factor * tf.exp(tmp) / tf.maximum(sigma_out, epsilon)"
   ]
  },
  {
   "cell_type": "code",
   "execution_count": null,
   "metadata": {},
   "outputs": [],
   "source": [
    "print(sigma_out)"
   ]
  },
  {
   "cell_type": "code",
   "execution_count": null,
   "metadata": {},
   "outputs": [],
   "source": [
    "loss = tf.reduce_sum(tf.multiply(y_normal, p_out), axis=1, keep_dims=True)\n",
    "loss = -tf.log(tf.maximum(loss, epsilon))\n",
    "loss = tf.reduce_mean(loss)\n",
    "train_step = tf.train.AdamOptimizer(learning_rate=0.01).minimize(loss)"
   ]
  },
  {
   "cell_type": "code",
   "execution_count": null,
   "metadata": {
    "scrolled": true
   },
   "outputs": [],
   "source": [
    "sess = tf.Session()\n",
    "sess.run(tf.global_variables_initializer())\n",
    "\n",
    "NEPOCH = 2500\n",
    "loss_vals = np.zeros(NEPOCH)\n",
    "for i in range(NEPOCH):\n",
    "    _, loss_val = sess.run([train_step, loss], feed_dict={x : x_data, y: y_data})\n",
    "    loss_vals[i] = loss_val\n",
    "    if i % 500 == 0:\n",
    "        print('{}/{} loss: {}'.format(i, NEPOCH, loss_val))\n",
    "\n",
    "plt.figure(figsize=(8, 8))\n",
    "plt.plot(loss_vals)\n",
    "plt.show()"
   ]
  },
  {
   "cell_type": "code",
   "execution_count": null,
   "metadata": {},
   "outputs": [],
   "source": [
    "x_test = np.arange(-15, 15, 0.1)\n",
    "x_test = np.reshape(x_test, newshape=(-1,1))\n",
    "p_val, mu_val, sigma_val = sess.run([p_out, mu_out, sigma_out], feed_dict={x:x_test})"
   ]
  },
  {
   "cell_type": "code",
   "execution_count": null,
   "metadata": {},
   "outputs": [],
   "source": [
    "M = 10\n",
    "x_pred = np.repeat(x_test, M)\n",
    "\n",
    "NTEST = len(x_test)\n",
    "y_pred = np.random.rand(NTEST, M)\n",
    "rn = np.random.randn(NTEST, M)\n",
    "\n",
    "def get_pi_idx(x, pdf):\n",
    "    N = pdf.size\n",
    "    acc = 0\n",
    "    for i in range(0, N):\n",
    "        acc += pdf[i]\n",
    "        if acc >= x:\n",
    "            return i\n",
    "\n",
    "for j in range(M):\n",
    "    for i in range(NTEST):\n",
    "        idx = get_pi_idx(y_pred[i, j], p_val[i])\n",
    "        mu  = mu_val[i, idx]\n",
    "        std = sigma_val[i, idx]\n",
    "        y_pred[i, j] = mu + rn[i, j]*std"
   ]
  },
  {
   "cell_type": "code",
   "execution_count": null,
   "metadata": {},
   "outputs": [],
   "source": [
    "plt.figure(figsize=(8, 8))\n",
    "plt.plot(x_data, y_data, 'b*', x_test, y_pred, 'ro', alpha=0.3)\n",
    "plt.show()"
   ]
  }
 ],
 "metadata": {
  "kernelspec": {
   "display_name": "Python 3",
   "language": "python",
   "name": "python3"
  },
  "language_info": {
   "codemirror_mode": {
    "name": "ipython",
    "version": 3
   },
   "file_extension": ".py",
   "mimetype": "text/x-python",
   "name": "python",
   "nbconvert_exporter": "python",
   "pygments_lexer": "ipython3",
   "version": "3.6.10"
  }
 },
 "nbformat": 4,
 "nbformat_minor": 4
}
